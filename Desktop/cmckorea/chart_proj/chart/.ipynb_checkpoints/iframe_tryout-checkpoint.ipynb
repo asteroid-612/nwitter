{
 "cells": [
  {
   "cell_type": "code",
   "execution_count": 1,
   "metadata": {},
   "outputs": [
    {
     "data": {
      "text/html": [
       "<html>\n",
       "<iframe id='ifr_list' name='ifr_list' src='http://www.immappler.com/dechr/web/index.php?blogid=aabird16&is_iframe_type_page=Y&inner_list_height=800' frameborder='0' scrolling='auto' width='100%' height='800’>\n",
       "</html>\n"
      ],
      "text/plain": [
       "<IPython.core.display.HTML object>"
      ]
     },
     "metadata": {},
     "output_type": "display_data"
    }
   ],
   "source": [
    "%%html\n",
    "<html>\n",
    "<iframe id='ifr_list' name='ifr_list' src='http://www.immappler.com/dechr/web/index.php?blogid=aabird16&is_iframe_type_page=Y&inner_list_height=800' frameborder='0' scrolling='auto' width='100%' height='800’>\n",
    "</html>"
   ]
  },
  {
   "cell_type": "code",
   "execution_count": 3,
   "metadata": {},
   "outputs": [
    {
     "data": {
      "text/html": [
       "\n",
       "        <iframe\n",
       "            width=\"700\"\n",
       "            height=\"800\"\n",
       "            src=\"http://www.immappler.com/dechr/web/index.php?blogid=aabird16&is_iframe_type_page=Y&inner_list_height=800\"\n",
       "            frameborder=\"0\"\n",
       "            allowfullscreen\n",
       "        ></iframe>\n",
       "        "
      ],
      "text/plain": [
       "<IPython.lib.display.IFrame at 0x10b992b38>"
      ]
     },
     "execution_count": 3,
     "metadata": {},
     "output_type": "execute_result"
    }
   ],
   "source": [
    "from IPython.display import IFrame\n",
    "# 이건 지도 iframe 임\n",
    "IFrame('http://www.immappler.com/dechr/web/index.php?blogid=aabird16&is_iframe_type_page=Y&inner_list_height=800',\n",
    "       width=700, height=800)"
   ]
  },
  {
   "cell_type": "code",
   "execution_count": 9,
   "metadata": {},
   "outputs": [
    {
     "data": {
      "text/html": [
       "\n",
       "        <iframe\n",
       "            width=\"600\"\n",
       "            height=\"500\"\n",
       "            src=\"http://www.mapplerk3.com/dechr/web/chart/pie_chart.php?blogid=pm2&amp;col=category&amp;w=790&amp;h=590&amp;axis_title=&amp;ex_null=yes&amp;title=\"\n",
       "            frameborder=\"0\"\n",
       "            allowfullscreen\n",
       "        ></iframe>\n",
       "        "
      ],
      "text/plain": [
       "<IPython.lib.display.IFrame at 0x10b9c2b00>"
      ]
     },
     "execution_count": 9,
     "metadata": {},
     "output_type": "execute_result"
    }
   ],
   "source": [
    "IFrame('http://www.mapplerk3.com/dechr/web/chart/pie_chart.php?blogid=pm2&amp;col=category&amp;w=790&amp;h=590&amp;axis_title=&amp;ex_null=yes&amp;title='\n",
    "       , width=600, height=500)"
   ]
  },
  {
   "cell_type": "code",
   "execution_count": 18,
   "metadata": {},
   "outputs": [
    {
     "data": {
      "text/html": [
       "\n",
       "        <iframe\n",
       "            width=\"600\"\n",
       "            height=\"600\"\n",
       "            src=\"http://www.mapplerk3.com/dechr/web/chart/bar_chart.php?blogid=pm2&amp;col=var9&amp;w=790&amp;h=590&amp;axis_title=&amp;ex_null=yes&amp;title=\"\n",
       "            frameborder=\"0\"\n",
       "            allowfullscreen\n",
       "        ></iframe>\n",
       "        "
      ],
      "text/plain": [
       "<IPython.lib.display.IFrame at 0x10b969e10>"
      ]
     },
     "execution_count": 18,
     "metadata": {},
     "output_type": "execute_result"
    }
   ],
   "source": [
    "IFrame('http://www.mapplerk3.com/dechr/web/chart/bar_chart.php?blogid=pm2&amp;col=var9&amp;w=790&amp;h=590&amp;axis_title=&amp;ex_null=yes&amp;title='\n",
    "       , width=600, height=600)"
   ]
  },
  {
   "cell_type": "code",
   "execution_count": null,
   "metadata": {},
   "outputs": [],
   "source": []
  }
 ],
 "metadata": {
  "kernelspec": {
   "display_name": "Python 3",
   "language": "python",
   "name": "python3"
  },
  "language_info": {
   "codemirror_mode": {
    "name": "ipython",
    "version": 3
   },
   "file_extension": ".py",
   "mimetype": "text/x-python",
   "name": "python",
   "nbconvert_exporter": "python",
   "pygments_lexer": "ipython3",
   "version": "3.7.3"
  }
 },
 "nbformat": 4,
 "nbformat_minor": 2
}
